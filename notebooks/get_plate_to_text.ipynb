{
 "cells": [
  {
   "cell_type": "code",
   "id": "initial_id",
   "metadata": {
    "collapsed": true
   },
   "source": [
    "import easyocr\n",
    "from ultralytics import YOLO\n",
    "import cv2\n",
    "import numpy as np\n",
    "from collections import defaultdict"
   ],
   "outputs": [],
   "execution_count": null
  },
  {
   "metadata": {},
   "cell_type": "code",
   "source": [
    "model = YOLO(\"../notebooks/runs/detect/train/weights/best.pt\")\n",
    "\n",
    "reader = easyocr.Reader(['en'])"
   ],
   "id": "78bb002cee90b417",
   "outputs": [],
   "execution_count": null
  },
  {
   "metadata": {},
   "cell_type": "code",
   "source": [
    "def read_license_plate(license_plate_crop):\n",
    "    detections = reader.readtext(license_plate_crop)\n",
    "    for detection in detections:\n",
    "        bbox, text, score = detection\n",
    "        print(f\"bbox: {bbox}, text: {text}, score: {score}\")\n",
    "        text = text.upper().replace(' ', '').replace('_', '').replace('-', '').replace('.', '').replace(';', '').replace(',', '').replace(':', '').replace('?', '').replace('!', '').replace('*', '').replace('(', '').replace(')', '').replace(\"'\", \"\").replace('\"', '')\n",
    "        return bbox, text, score\n",
    "\n",
    "    return None, None, None"
   ],
   "id": "9390781d1e96ca59",
   "outputs": [],
   "execution_count": null
  },
  {
   "metadata": {},
   "cell_type": "code",
   "source": [
    "def areaFilter(minArea, inputImage):\n",
    "    componentsNumber, labeledImage, componentStats, componentCentroids = \\\n",
    "        cv2.connectedComponentsWithStats(inputImage, connectivity=4)\n",
    "\n",
    "    remainingComponentLabels = [i for i in range(1, componentsNumber) if componentStats[i][4] >= minArea]\n",
    "\n",
    "    filteredImage = np.where(np.isin(labeledImage, remainingComponentLabels) == True, 255, 0).astype('uint8')\n",
    "\n",
    "    return filteredImage"
   ],
   "id": "688274041a58d958",
   "outputs": [],
   "execution_count": null
  },
  {
   "metadata": {},
   "cell_type": "code",
   "source": [
    "frame = cv2.imread('{IMAGE_PATH}')\n",
    "license_plates = model(frame)[0]\n",
    "license_plate_text = None\n",
    "\n",
    "BINARY_THRESH = [100, 120, 150, 170, 190]\n",
    "LAST_PARAM = [cv2.THRESH_BINARY, cv2.THRESH_BINARY_INV]\n",
    "prediction_dict = defaultdict(lambda: [set(), 0, []])\n",
    "\n",
    "cv2.imshow('image', frame)\n",
    "cv2.waitKey(0)\n",
    "for license_plate in license_plates.boxes.data.tolist():\n",
    "    x1, y1, x2, y2, score, class_id = license_plate\n",
    "    license_plate_crop = frame[int(y1):int(y2), int(x1): int(x2), :]\n",
    "    cv2.imshow('license_plate', license_plate_crop)\n",
    "    cv2.waitKey(0)\n",
    "    license_plate_crop_gray = cv2.cvtColor(license_plate_crop, cv2.COLOR_BGR2GRAY)\n",
    "    cv2.imshow('license_plate_thresh', license_plate_crop_gray)\n",
    "    cv2.waitKey(0)\n",
    "\n",
    "    for last_param in LAST_PARAM:\n",
    "        for thresh in BINARY_THRESH:\n",
    "            _, license_plate_crop_thresh = cv2.threshold(license_plate_crop_gray, thresh, 255, last_param)\n",
    "            cv2.imshow('license_plate_thresh', license_plate_crop_thresh)\n",
    "            cv2.waitKey(0)\n",
    "\n",
    "            minArea = 100\n",
    "            binaryImage = areaFilter(minArea, license_plate_crop_thresh)\n",
    "            cv2.imshow(\"Filtered\", binaryImage)\n",
    "            cv2.waitKey(0)\n",
    "\n",
    "            kernelSize = 3\n",
    "            opIterations = 2\n",
    "            morphKernel = cv2.getStructuringElement(cv2.MORPH_RECT, (kernelSize, kernelSize))\n",
    "            binaryImage = cv2.morphologyEx(binaryImage, cv2.MORPH_CLOSE, morphKernel, None, None, opIterations, cv2.BORDER_REFLECT101)\n",
    "            cv2.imshow(\"Filtered_ultra\", binaryImage)\n",
    "            cv2.waitKey(0)\n",
    "\n",
    "\n",
    "            _, license_plate_text, score_plate = read_license_plate(binaryImage)\n",
    "            if license_plate_text is None:\n",
    "                continue\n",
    "            prediction_dict[license_plate_text][0] = license_plate_text\n",
    "            prediction_dict[license_plate_text][1] +=1\n",
    "            prediction_dict[license_plate_text][2].append(score_plate)\n",
    "\n",
    "cv2.destroyAllWindows()\n",
    "\n",
    "\n",
    "for key in prediction_dict:\n",
    "    prediction_dict[key][2] = sum(prediction_dict[key][2]) / len(prediction_dict[key][2])\n",
    "\n",
    "result = dict(prediction_dict)\n",
    "for k, v in result.items():\n",
    "    print(f\"Set: {v[0]}, Count: {v[1]}, Mean Score: {v[2]}\")"
   ],
   "id": "dbfc885c5add38dd",
   "outputs": [],
   "execution_count": null
  }
 ],
 "metadata": {
  "kernelspec": {
   "display_name": "Python 3",
   "language": "python",
   "name": "python3"
  },
  "language_info": {
   "codemirror_mode": {
    "name": "ipython",
    "version": 2
   },
   "file_extension": ".py",
   "mimetype": "text/x-python",
   "name": "python",
   "nbconvert_exporter": "python",
   "pygments_lexer": "ipython2",
   "version": "2.7.6"
  }
 },
 "nbformat": 4,
 "nbformat_minor": 5
}
