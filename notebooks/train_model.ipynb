{
 "cells": [
  {
   "cell_type": "code",
   "id": "initial_id",
   "metadata": {
    "collapsed": true
   },
   "source": [
    "from ultralytics import YOLO\n",
    "import os\n",
    "from lxml import etree\n",
    "from sklearn.model_selection import train_test_split\n",
    "from pathlib import Path\n",
    "import cv2"
   ],
   "outputs": [],
   "execution_count": null
  },
  {
   "metadata": {},
   "cell_type": "code",
   "source": [
    "xml_files_path = '../dataset/annotations/'\n",
    "image_files_path = '../dataset/images/'\n",
    "labels_dict = {'filepath': [], 'xcenter': [], 'ycenter': [], 'width': [], 'height': []}\n",
    "\n",
    "for xml_filename in os.listdir(xml_files_path):\n",
    "    tree = etree.parse(f\"{xml_files_path}/{xml_filename}\")\n",
    "    for dim in tree.xpath(\"size\"):\n",
    "        img_width = int(dim.xpath(\"width\")[0].text)\n",
    "        img_height = int(dim.xpath(\"height\")[0].text)\n",
    "    for dim in tree.xpath(\"object/bndbox\"):\n",
    "        xmin = int(dim.xpath(\"xmin\")[0].text)\n",
    "        ymin = int(dim.xpath(\"ymin\")[0].text)\n",
    "        xmax = int(dim.xpath(\"xmax\")[0].text)\n",
    "        ymax = int(dim.xpath(\"ymax\")[0].text)\n",
    "\n",
    "    x_center = (xmin + xmax) / 2 / img_width\n",
    "    y_center = (ymin + ymax) / 2 / img_height\n",
    "    width = (xmax - xmin) / img_width\n",
    "    height = (ymax - ymin) / img_height\n",
    "\n",
    "    image_filename = xml_filename.replace('annotations', 'images').replace('.xml', '.png')\n",
    "    labels_dict['filepath'].append(image_filename)\n",
    "    labels_dict['xcenter'].append(x_center)\n",
    "    labels_dict['ycenter'].append(y_center)\n",
    "    labels_dict['width'].append(width)\n",
    "    labels_dict['height'].append(height)"
   ],
   "id": "b04144cc96352568",
   "outputs": [],
   "execution_count": null
  },
  {
   "metadata": {},
   "cell_type": "code",
   "source": [
    "image_paths = labels_dict['filepath']\n",
    "labels = list(zip(labels_dict['xcenter'], labels_dict['ycenter'],\n",
    "                  labels_dict['width'], labels_dict['height']))\n",
    "\n",
    "train_image_paths, test_image_paths, train_labels, test_labels = train_test_split(\n",
    "    image_paths, labels, test_size=0.12, random_state=42)"
   ],
   "id": "3ed99a8afc382d26",
   "outputs": [],
   "execution_count": null
  },
  {
   "metadata": {},
   "cell_type": "code",
   "source": [
    "output_dir = '../yolo_dataset'\n",
    "os.makedirs(f'{output_dir}/images/train', exist_ok=True)\n",
    "os.makedirs(f'{output_dir}/images/val', exist_ok=True)\n",
    "os.makedirs(f'{output_dir}/labels/train', exist_ok=True)\n",
    "os.makedirs(f'{output_dir}/labels/val', exist_ok=True)\n",
    "\n",
    "for i, (image_path, image_label) in enumerate(zip(train_image_paths, train_labels)):\n",
    "    img = cv2.imread(f\"{image_files_path}/{image_path}\")\n",
    "    label_path = Path(image_path).stem + '.txt'\n",
    "\n",
    "    cv2.imwrite(f'{output_dir}/images/train/{Path(image_path).name}', img)\n",
    "    with open(f'{output_dir}/labels/train/{label_path}', 'w') as f:\n",
    "        f.write(f'0 {image_label[0]} {image_label[1]} {image_label[2]} {image_label[3]}\\n')\n",
    "\n",
    "for i, (image_path, image_label) in enumerate(zip(test_image_paths, test_labels)):\n",
    "    img = cv2.imread(f\"{image_files_path}/{image_path}\")\n",
    "    label_path = Path(image_path).stem + '.txt'\n",
    "\n",
    "    cv2.imwrite(f'{output_dir}/images/val/{Path(image_path).name}', img)\n",
    "    with open(f'{output_dir}/labels/val/{label_path}', 'w') as f:\n",
    "        f.write(f'0 {image_label[0]} {image_label[1]} {image_label[2]} {image_label[3]}\\n')"
   ],
   "id": "efbbe9f364f4e2fe",
   "outputs": [],
   "execution_count": null
  },
  {
   "metadata": {},
   "cell_type": "code",
   "source": [
    "train_images_path = '../yolo_dataset/images/train'\n",
    "val_images_path = '../yolo_dataset/images/val'\n",
    "classes = ['license_plate']\n",
    "\n",
    "yaml_content = f\"\"\"\n",
    "train: {os.path.abspath(train_images_path)}\n",
    "val: {os.path.abspath(val_images_path)}\n",
    "\n",
    "nc: {len(classes)}\n",
    "names: {classes}\n",
    "\"\"\"\n",
    "\n",
    "yaml_file_path = 'license_plate.yaml'\n",
    "with open(yaml_file_path, 'w') as yaml_file:\n",
    "    yaml_file.write(yaml_content)"
   ],
   "id": "aab04a2ac79fd55b",
   "outputs": [],
   "execution_count": null
  },
  {
   "metadata": {},
   "cell_type": "code",
   "source": [
    "# Load the model\n",
    "model = YOLO(\"../src/models/yolo11n.pt\")"
   ],
   "id": "f774c798e9dc5bd1",
   "outputs": [],
   "execution_count": null
  },
  {
   "metadata": {},
   "cell_type": "code",
   "source": [
    "# Train the model\n",
    "model.train(\n",
    "    data='license_plate.yaml',\n",
    "    epochs=10,\n",
    "    batch=16,\n",
    "    imgsz=640,\n",
    "    workers=4\n",
    ")"
   ],
   "id": "d413dcd32f28d14a",
   "outputs": [],
   "execution_count": null
  }
 ],
 "metadata": {
  "kernelspec": {
   "display_name": "Python 3",
   "language": "python",
   "name": "python3"
  },
  "language_info": {
   "codemirror_mode": {
    "name": "ipython",
    "version": 2
   },
   "file_extension": ".py",
   "mimetype": "text/x-python",
   "name": "python",
   "nbconvert_exporter": "python",
   "pygments_lexer": "ipython2",
   "version": "2.7.6"
  }
 },
 "nbformat": 4,
 "nbformat_minor": 5
}
